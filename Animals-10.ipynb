{
 "cells": [
  {
   "cell_type": "code",
   "execution_count": 1,
   "id": "9d073ed2-1f69-4749-aacb-510a848538cb",
   "metadata": {},
   "outputs": [],
   "source": [
    "import torch\n",
    "import torch.nn as nn\n",
    "import torchvision.transforms as transforms\n",
    "import torchvision.datasets as datasets\n",
    "from torch.utils.data import Dataset, DataLoader, Subset\n",
    "import pandas as pd\n",
    "import numpy as np\n",
    "import os\n",
    "from PIL import Image\n",
    "from tqdm import tqdm\n",
    "import matplotlib.pyplot as plt\n",
    "import random\n",
    "from IPython.display import clear_output"
   ]
  },
  {
   "cell_type": "code",
   "execution_count": 2,
   "id": "c068367d-bb07-449f-bf9d-0765bb2ef9f8",
   "metadata": {},
   "outputs": [
    {
     "data": {
      "text/plain": [
       "device(type='cuda', index=0)"
      ]
     },
     "execution_count": 2,
     "metadata": {},
     "output_type": "execute_result"
    }
   ],
   "source": [
    "device = torch.device(\"cuda:0\" if torch.cuda.is_available() else \"cpu\")\n",
    "device"
   ]
  },
  {
   "cell_type": "code",
   "execution_count": 2,
   "id": "2ce9da98-5855-4c8d-97a6-1882f9d4bdfb",
   "metadata": {},
   "outputs": [
    {
     "name": "stdout",
     "output_type": "stream",
     "text": [
      "Number of classes: 10\n",
      "Number of samples: 26179\n"
     ]
    }
   ],
   "source": [
    "data_dir = '../data/Animals-10/raw-img'\n",
    "transform = transforms.Compose([\n",
    "     transforms.Resize((224,224)),\n",
    "     transforms.RandomHorizontalFlip(),  # 随机水平翻转\n",
    "     transforms.ColorJitter(brightness=0.15, contrast=0.15, hue=0.1),  # 随机改变颜色属性\n",
    "     transforms.ToTensor(),\n",
    "     transforms.Normalize(mean=[0.485, 0.456, 0.406], std=[0.229, 0.224, 0.225]),\n",
    "])\n",
    "\n",
    "Dataset = datasets.ImageFolder(root=data_dir, transform=transform)\n",
    "\n",
    "num_classes = len(Dataset.classes)\n",
    "print(f\"Number of classes: {num_classes}\")\n",
    "num_samples = len(Dataset)\n",
    "print(f\"Number of samples: {num_samples}\")"
   ]
  },
  {
   "cell_type": "code",
   "execution_count": 3,
   "id": "c34ee3c4-4456-4c28-a76c-bfb449f51b06",
   "metadata": {},
   "outputs": [],
   "source": [
    "train_indices = []\n",
    "test_indices = []\n",
    "\n",
    "# 按类别划分\n",
    "for label in range(len(Dataset.classes)):\n",
    "    # 找到该类别所有样本的索引\n",
    "    class_indices = [i for i, (_, class_label) in enumerate(Dataset.imgs) if class_label == label]\n",
    "    random.shuffle(class_indices)  # 打乱顺序\n",
    "\n",
    "    # 划分\n",
    "    split_index = int(0.85 * len(class_indices))  # 80% 训练集，20% 测试集\n",
    "    train_indices.extend(class_indices[:split_index])\n",
    "    test_indices.extend(class_indices[split_index:])"
   ]
  },
  {
   "cell_type": "code",
   "execution_count": 4,
   "id": "63427cc2-36c3-4c74-aef7-847b31f6326f",
   "metadata": {},
   "outputs": [
    {
     "name": "stdout",
     "output_type": "stream",
     "text": [
      "Training samples: 22248\n",
      "Test samples: 3931\n"
     ]
    }
   ],
   "source": [
    "# 创建训练集和测试集子集\n",
    "train_subset = Subset(Dataset, train_indices)\n",
    "test_subset = Subset(Dataset, test_indices)\n",
    "\n",
    "# 创建数据加载器\n",
    "train_loader = DataLoader(train_subset, batch_size=32, shuffle=True)\n",
    "test_loader = DataLoader(test_subset, batch_size=32, shuffle=False)\n",
    "\n",
    "# 打印训练集和测试集的大小\n",
    "print(f\"Training samples: {len(train_subset)}\")\n",
    "print(f\"Test samples: {len(test_subset)}\")"
   ]
  },
  {
   "cell_type": "code",
   "execution_count": 5,
   "id": "8beeb3fb-993d-4e48-8acf-a3504b851922",
   "metadata": {},
   "outputs": [],
   "source": [
    "# Resnet 18/34\n",
    "class ResidualBlock(nn.Module):\n",
    "    def __init__(self, in_channels, out_channels, stride = 1, downsample = None):\n",
    "        super(ResidualBlock, self).__init__()\n",
    "        self.conv1 = nn.Sequential(\n",
    "                        nn.Conv2d(in_channels, out_channels, kernel_size = 3, stride = stride, padding = 1),\n",
    "                        nn.BatchNorm2d(out_channels),\n",
    "                        nn.ReLU())\n",
    "        self.conv2 = nn.Sequential(\n",
    "                        nn.Conv2d(out_channels, out_channels, kernel_size = 3, stride = 1, padding = 1),\n",
    "                        nn.BatchNorm2d(out_channels))\n",
    "        self.downsample = downsample\n",
    "        self.relu = nn.ReLU()\n",
    "        self.out_channels = out_channels\n",
    "        \n",
    "    def forward(self, x):\n",
    "        residual = x\n",
    "        out = self.conv1(x)\n",
    "        out = self.conv2(out)\n",
    "        if self.downsample:\n",
    "            residual = self.downsample(x)\n",
    "        out += residual\n",
    "        out = self.relu(out)\n",
    "        return out"
   ]
  },
  {
   "cell_type": "code",
   "execution_count": null,
   "id": "9e7ce696",
   "metadata": {},
   "outputs": [],
   "source": [
    "# Resnet 50/101/152\n",
    "class BottleneckResidualBlock(nn.Module):\n",
    "    def __init__(self, in_channels, out_channels, stride=1, downsample=None):\n",
    "        super(BottleneckResidualBlock, self).__init__()\n",
    "        # 1x1 卷积，用于降维\n",
    "        self.conv1 = nn.Sequential(\n",
    "            nn.Conv2d(in_channels, out_channels, kernel_size=1, stride=stride, bias=False),\n",
    "            nn.BatchNorm2d(out_channels),\n",
    "            nn.ReLU()\n",
    "        )\n",
    "        # 3x3 卷积，用于提取特征\n",
    "        self.conv2 = nn.Sequential(\n",
    "            nn.Conv2d(out_channels, out_channels, kernel_size=3, stride=1, padding=1, bias=False),\n",
    "            nn.BatchNorm2d(out_channels),\n",
    "            nn.ReLU()\n",
    "        )\n",
    "        # 1x1 卷积，用于升维\n",
    "        self.conv3 = nn.Sequential(\n",
    "            nn.Conv2d(out_channels, out_channels * 4, kernel_size=1, bias=False),\n",
    "            nn.BatchNorm2d(out_channels * 4)\n",
    "        )\n",
    "        self.downsample = downsample\n",
    "        self.relu = nn.ReLU()\n",
    "        \n",
    "    def forward(self, x):\n",
    "        residual = x\n",
    "        \n",
    "        # 通过三个卷积层\n",
    "        out = self.conv1(x)\n",
    "        out = self.conv2(out)\n",
    "        out = self.conv3(out)\n",
    "        \n",
    "        # 如果有 downsample，调整输入的维度匹配输出\n",
    "        if self.downsample:\n",
    "            residual = self.downsample(x)\n",
    "        \n",
    "        # 加上残差并通过 ReLU\n",
    "        out += residual\n",
    "        out = self.relu(out)\n",
    "        \n",
    "        return out\n"
   ]
  },
  {
   "cell_type": "code",
   "execution_count": 6,
   "id": "0218a267-8603-46af-b113-c2140c96fa61",
   "metadata": {},
   "outputs": [],
   "source": [
    "# Resnet\n",
    "class ResNet(nn.Module):\n",
    "    def __init__(self, block, layers, num_classes = 10):\n",
    "        super(ResNet, self).__init__()\n",
    "        self.inplanes = 64\n",
    "        self.conv1 = nn.Sequential(\n",
    "                        nn.Conv2d(3, 64, kernel_size = 7, stride = 2, padding = 3),\n",
    "                        nn.BatchNorm2d(64),\n",
    "                        nn.ReLU())\n",
    "        self.maxpool = nn.MaxPool2d(kernel_size = 3, stride = 2, padding = 1)\n",
    "        self.layer0 = self._make_layer(block, 64, layers[0], stride = 1)\n",
    "        self.layer1 = self._make_layer(block, 128, layers[1], stride = 2)\n",
    "        self.layer2 = self._make_layer(block, 256, layers[2], stride = 2)\n",
    "        self.layer3 = self._make_layer(block, 512, layers[3], stride = 2)\n",
    "        self.avgpool = nn.AvgPool2d(7, stride=1)\n",
    "        self.fc = nn.Linear(512, num_classes)\n",
    "        \n",
    "    def _make_layer(self, block, planes, blocks, stride=1):\n",
    "        downsample = None\n",
    "        if stride != 1 or self.inplanes != planes:\n",
    "            \n",
    "            downsample = nn.Sequential(\n",
    "                nn.Conv2d(self.inplanes, planes, kernel_size=1, stride=stride),\n",
    "                nn.BatchNorm2d(planes),\n",
    "            )\n",
    "        layers = []\n",
    "        layers.append(block(self.inplanes, planes, stride, downsample))\n",
    "        self.inplanes = planes\n",
    "        for i in range(1, blocks):\n",
    "            layers.append(block(self.inplanes, planes))\n",
    "\n",
    "        return nn.Sequential(*layers)\n",
    "    \n",
    "    def forward(self, x):\n",
    "        x = self.conv1(x)\n",
    "        x = self.maxpool(x)\n",
    "        x = self.layer0(x)\n",
    "        x = self.layer1(x)\n",
    "        x = self.layer2(x)\n",
    "        x = self.layer3(x)\n",
    "\n",
    "        x = self.avgpool(x)\n",
    "        x = x.view(x.size(0), -1)\n",
    "        x = self.fc(x)\n",
    "\n",
    "        return x"
   ]
  },
  {
   "cell_type": "code",
   "execution_count": 7,
   "id": "5b0b8b97-8c9e-45e2-bffc-6d4845a49d53",
   "metadata": {},
   "outputs": [],
   "source": [
    "# 交叉验证参数\n",
    "k_folds = 3\n",
    "fold_size = len(train_subset) // k_folds\n",
    "\n",
    "# 创建 k 折交叉验证的索引\n",
    "indices = list(range(len(train_subset)))\n",
    "random.shuffle(indices)\n",
    "\n",
    "# 划分 k 折\n",
    "folds = [indices[i:i + fold_size] for i in range(0, len(indices), fold_size)]"
   ]
  },
  {
   "cell_type": "code",
   "execution_count": 9,
   "id": "93b1f467-c37d-466c-8d2c-e8f538d76d32",
   "metadata": {},
   "outputs": [
    {
     "data": {
      "text/plain": [
       "696"
      ]
     },
     "execution_count": 9,
     "metadata": {},
     "output_type": "execute_result"
    }
   ],
   "source": [
    "# 超参数\n",
    "num_epochs = 20\n",
    "batch_size = 64\n",
    "learning_rate = 0.001\n",
    "\n",
    "model = ResNet(ResidualBlock, [3, 4, 6, 3]).to(device)\n",
    "\n",
    "criterion = nn.CrossEntropyLoss()\n",
    "optimizer = torch.optim.Adam(model.parameters(), lr=learning_rate, weight_decay = 0.001)\n",
    "\n",
    "total_step = len(train_loader)\n",
    "total_step"
   ]
  },
  {
   "cell_type": "code",
   "execution_count": 10,
   "id": "a8c407b0-7bf0-4059-9225-76a5df523f1b",
   "metadata": {},
   "outputs": [],
   "source": [
    "# 初始化存储loss和准确率的列表\n",
    "train_losses = []\n",
    "val_accuracies = []\n",
    "best_val_accuracy = 0"
   ]
  },
  {
   "cell_type": "code",
   "execution_count": 11,
   "id": "311dc422-f877-44a9-a96e-1d9cdefc0045",
   "metadata": {},
   "outputs": [
    {
     "name": "stdout",
     "output_type": "stream",
     "text": [
      "\n",
      "Fold 1/3\n",
      "Training samples for fold 1: 14832, Validation samples: 7416\n"
     ]
    },
    {
     "name": "stderr",
     "output_type": "stream",
     "text": [
      "Epoch 1/20 [Training]:   3%|█▋                                                        | 13/464 [00:44<25:36,  3.41s/it]\n"
     ]
    },
    {
     "ename": "KeyboardInterrupt",
     "evalue": "",
     "output_type": "error",
     "traceback": [
      "\u001b[1;31m---------------------------------------------------------------------------\u001b[0m",
      "\u001b[1;31mKeyboardInterrupt\u001b[0m                         Traceback (most recent call last)",
      "Cell \u001b[1;32mIn[11], line 40\u001b[0m\n\u001b[0;32m     38\u001b[0m \u001b[38;5;66;03m# 反向传播和优化\u001b[39;00m\n\u001b[0;32m     39\u001b[0m optimizer\u001b[38;5;241m.\u001b[39mzero_grad()\n\u001b[1;32m---> 40\u001b[0m \u001b[43mloss\u001b[49m\u001b[38;5;241;43m.\u001b[39;49m\u001b[43mbackward\u001b[49m\u001b[43m(\u001b[49m\u001b[43m)\u001b[49m\n\u001b[0;32m     41\u001b[0m optimizer\u001b[38;5;241m.\u001b[39mstep()\n\u001b[0;32m     43\u001b[0m \u001b[38;5;66;03m# 累计损失\u001b[39;00m\n",
      "File \u001b[1;32mG:\\Users\\Bob\\miniconda3\\envs\\cv\\lib\\site-packages\\torch\\_tensor.py:521\u001b[0m, in \u001b[0;36mTensor.backward\u001b[1;34m(self, gradient, retain_graph, create_graph, inputs)\u001b[0m\n\u001b[0;32m    511\u001b[0m \u001b[38;5;28;01mif\u001b[39;00m has_torch_function_unary(\u001b[38;5;28mself\u001b[39m):\n\u001b[0;32m    512\u001b[0m     \u001b[38;5;28;01mreturn\u001b[39;00m handle_torch_function(\n\u001b[0;32m    513\u001b[0m         Tensor\u001b[38;5;241m.\u001b[39mbackward,\n\u001b[0;32m    514\u001b[0m         (\u001b[38;5;28mself\u001b[39m,),\n\u001b[1;32m   (...)\u001b[0m\n\u001b[0;32m    519\u001b[0m         inputs\u001b[38;5;241m=\u001b[39minputs,\n\u001b[0;32m    520\u001b[0m     )\n\u001b[1;32m--> 521\u001b[0m \u001b[43mtorch\u001b[49m\u001b[38;5;241;43m.\u001b[39;49m\u001b[43mautograd\u001b[49m\u001b[38;5;241;43m.\u001b[39;49m\u001b[43mbackward\u001b[49m\u001b[43m(\u001b[49m\n\u001b[0;32m    522\u001b[0m \u001b[43m    \u001b[49m\u001b[38;5;28;43mself\u001b[39;49m\u001b[43m,\u001b[49m\u001b[43m \u001b[49m\u001b[43mgradient\u001b[49m\u001b[43m,\u001b[49m\u001b[43m \u001b[49m\u001b[43mretain_graph\u001b[49m\u001b[43m,\u001b[49m\u001b[43m \u001b[49m\u001b[43mcreate_graph\u001b[49m\u001b[43m,\u001b[49m\u001b[43m \u001b[49m\u001b[43minputs\u001b[49m\u001b[38;5;241;43m=\u001b[39;49m\u001b[43minputs\u001b[49m\n\u001b[0;32m    523\u001b[0m \u001b[43m\u001b[49m\u001b[43m)\u001b[49m\n",
      "File \u001b[1;32mG:\\Users\\Bob\\miniconda3\\envs\\cv\\lib\\site-packages\\torch\\autograd\\__init__.py:289\u001b[0m, in \u001b[0;36mbackward\u001b[1;34m(tensors, grad_tensors, retain_graph, create_graph, grad_variables, inputs)\u001b[0m\n\u001b[0;32m    284\u001b[0m     retain_graph \u001b[38;5;241m=\u001b[39m create_graph\n\u001b[0;32m    286\u001b[0m \u001b[38;5;66;03m# The reason we repeat the same comment below is that\u001b[39;00m\n\u001b[0;32m    287\u001b[0m \u001b[38;5;66;03m# some Python versions print out the first line of a multi-line function\u001b[39;00m\n\u001b[0;32m    288\u001b[0m \u001b[38;5;66;03m# calls in the traceback and some print out the last line\u001b[39;00m\n\u001b[1;32m--> 289\u001b[0m \u001b[43m_engine_run_backward\u001b[49m\u001b[43m(\u001b[49m\n\u001b[0;32m    290\u001b[0m \u001b[43m    \u001b[49m\u001b[43mtensors\u001b[49m\u001b[43m,\u001b[49m\n\u001b[0;32m    291\u001b[0m \u001b[43m    \u001b[49m\u001b[43mgrad_tensors_\u001b[49m\u001b[43m,\u001b[49m\n\u001b[0;32m    292\u001b[0m \u001b[43m    \u001b[49m\u001b[43mretain_graph\u001b[49m\u001b[43m,\u001b[49m\n\u001b[0;32m    293\u001b[0m \u001b[43m    \u001b[49m\u001b[43mcreate_graph\u001b[49m\u001b[43m,\u001b[49m\n\u001b[0;32m    294\u001b[0m \u001b[43m    \u001b[49m\u001b[43minputs\u001b[49m\u001b[43m,\u001b[49m\n\u001b[0;32m    295\u001b[0m \u001b[43m    \u001b[49m\u001b[43mallow_unreachable\u001b[49m\u001b[38;5;241;43m=\u001b[39;49m\u001b[38;5;28;43;01mTrue\u001b[39;49;00m\u001b[43m,\u001b[49m\n\u001b[0;32m    296\u001b[0m \u001b[43m    \u001b[49m\u001b[43maccumulate_grad\u001b[49m\u001b[38;5;241;43m=\u001b[39;49m\u001b[38;5;28;43;01mTrue\u001b[39;49;00m\u001b[43m,\u001b[49m\n\u001b[0;32m    297\u001b[0m \u001b[43m\u001b[49m\u001b[43m)\u001b[49m\n",
      "File \u001b[1;32mG:\\Users\\Bob\\miniconda3\\envs\\cv\\lib\\site-packages\\torch\\autograd\\graph.py:768\u001b[0m, in \u001b[0;36m_engine_run_backward\u001b[1;34m(t_outputs, *args, **kwargs)\u001b[0m\n\u001b[0;32m    766\u001b[0m     unregister_hooks \u001b[38;5;241m=\u001b[39m _register_logging_hooks_on_whole_graph(t_outputs)\n\u001b[0;32m    767\u001b[0m \u001b[38;5;28;01mtry\u001b[39;00m:\n\u001b[1;32m--> 768\u001b[0m     \u001b[38;5;28;01mreturn\u001b[39;00m Variable\u001b[38;5;241m.\u001b[39m_execution_engine\u001b[38;5;241m.\u001b[39mrun_backward(  \u001b[38;5;66;03m# Calls into the C++ engine to run the backward pass\u001b[39;00m\n\u001b[0;32m    769\u001b[0m         t_outputs, \u001b[38;5;241m*\u001b[39margs, \u001b[38;5;241m*\u001b[39m\u001b[38;5;241m*\u001b[39mkwargs\n\u001b[0;32m    770\u001b[0m     )  \u001b[38;5;66;03m# Calls into the C++ engine to run the backward pass\u001b[39;00m\n\u001b[0;32m    771\u001b[0m \u001b[38;5;28;01mfinally\u001b[39;00m:\n\u001b[0;32m    772\u001b[0m     \u001b[38;5;28;01mif\u001b[39;00m attach_logging_hooks:\n",
      "\u001b[1;31mKeyboardInterrupt\u001b[0m: "
     ]
    }
   ],
   "source": [
    "# 进行 k 折交叉验证\n",
    "for fold in range(k_folds):\n",
    "    print(f\"\\nFold {fold + 1}/{k_folds}\")\n",
    "\n",
    "    # 划分训练集和验证集\n",
    "    val_indices = folds[fold]  # 当前折的验证集索引\n",
    "    train_indices = [idx for i in range(k_folds) if i != fold for idx in folds[i]]  # 其他折的训练集索引\n",
    "\n",
    "    # 创建子集\n",
    "    train_k_subset = Subset(train_subset, train_indices)\n",
    "    val_subset = Subset(train_subset, val_indices)\n",
    "\n",
    "    # 创建数据加载器\n",
    "    train_k_loader = DataLoader(train_k_subset, batch_size=32, shuffle=True)\n",
    "    val_loader = DataLoader(val_subset, batch_size=32, shuffle=False)\n",
    "\n",
    "    # 打印训练和验证集的大小\n",
    "    print(f\"Training samples for fold {fold + 1}: {len(train_k_subset)}, Validation samples: {len(val_subset)}\")\n",
    "    \n",
    "    # 训练及验证\n",
    "    for epoch in range(num_epochs):\n",
    "        # 训练\n",
    "        model.train()\n",
    "        running_loss = 0.0\n",
    "\n",
    "        # 训练进度条\n",
    "        train_loader_tqdm = tqdm(train_k_loader, desc=f'Epoch {epoch+1}/{num_epochs} [Training]', leave=True)\n",
    "        \n",
    "        for images, labels in train_loader_tqdm:\n",
    "            # 将数据移动到 GPU\n",
    "            images = images.to(device)\n",
    "            labels = labels.to(device)\n",
    "            \n",
    "            # 前向传播\n",
    "            outputs = model(images)\n",
    "            loss = criterion(outputs, labels)\n",
    "            \n",
    "            # 反向传播和优化\n",
    "            optimizer.zero_grad()\n",
    "            loss.backward()\n",
    "            optimizer.step()\n",
    "\n",
    "            # 累计损失\n",
    "            running_loss += loss.item()\n",
    "            \n",
    "        # 计算并保存当前epoch的平均loss\n",
    "        epoch_loss = running_loss / len(train_k_loader)\n",
    "        train_losses.append(epoch_loss)\n",
    "                \n",
    "        # 验证\n",
    "        model.eval()\n",
    "        correct = 0\n",
    "        total = 0\n",
    "        \n",
    "        val_loader_tqdm = tqdm(val_loader, desc=f'Epoch {epoch+1}/{num_epochs} [Validation]', leave=True)\n",
    "        \n",
    "        with torch.no_grad():\n",
    "            for images, labels in val_loader_tqdm:\n",
    "                images = images.to(device)\n",
    "                labels = labels.to(device)\n",
    "                \n",
    "                # 前向传播\n",
    "                outputs = model(images)\n",
    "                _, predicted = torch.max(outputs.data, 1)\n",
    "                \n",
    "                # 统计准确率\n",
    "                total += labels.size(0)\n",
    "                correct += (predicted == labels).sum().item()\n",
    "\n",
    "        val_accuracy = 100 * correct / total\n",
    "        val_accuracies.append(val_accuracy)\n",
    "        \n",
    "        # 打印每个 epoch 的损失和验证集准确率\n",
    "        print(f'Fold [{fold+1}/{k_folds}], Epoch [{epoch+1}/{num_epochs}], Loss: {epoch_loss:.4f}, Validation Accuracy: {val_accuracy:.2f}%')\n",
    "        \n",
    "        # 动态绘图\n",
    "        # plot_metrics(epoch)\n",
    "\n",
    "        # 如果验证集准确率提升，保存模型\n",
    "        if val_accuracy > best_val_accuracy:\n",
    "            best_val_accuracy = val_accuracy\n",
    "            torch.save(model.state_dict(), 'best_model_cpu.pth')\n",
    "            print(f\"Validation accuracy improved to {best_val_accuracy:.2f}%, model saved.\")"
   ]
  },
  {
   "cell_type": "code",
   "execution_count": 16,
   "id": "b8a302be-e2ce-4421-b5bf-8be018ee7baf",
   "metadata": {},
   "outputs": [
    {
     "data": {
      "image/png": "[encoded data removed]",
      "text/plain": [
       "<Figure size 640x480 with 2 Axes>"
      ]
     },
     "metadata": {},
     "output_type": "display_data"
    }
   ],
   "source": [
    "def plot_final_metrics(train_losses, val_accuracies):\n",
    "    fig, ax1 = plt.subplots()\n",
    "\n",
    "    # 绘制训练损失\n",
    "    ax1.set_xlabel('Epoch')\n",
    "    ax1.set_ylabel('Training Loss', color='tab:red')\n",
    "    ax1.plot(range(1, len(train_losses) + 1), train_losses, color='tab:red', label='Train Loss')\n",
    "    ax1.tick_params(axis='y', labelcolor='tab:red')\n",
    "\n",
    "    # 绘制验证准确率\n",
    "    ax2 = ax1.twinx()  # 创建共享 x 轴的第二个 y 轴\n",
    "    ax2.set_ylabel('Validation Accuracy (%)', color='tab:blue')\n",
    "    ax2.plot(range(1, len(val_accuracies) + 1), val_accuracies, color='tab:blue', label='Val Accuracy')\n",
    "    ax2.tick_params(axis='y', labelcolor='tab:blue')\n",
    "\n",
    "    # 设置图像标题\n",
    "    plt.title('Training Loss and Validation Accuracy Over Epochs')\n",
    "    fig.tight_layout()  # 调整布局避免重叠\n",
    "    plt.show()\n",
    "\n",
    "# 调用函数绘制图像\n",
    "plot_final_metrics(train_losses, val_accuracies)"
   ]
  },
  {
   "cell_type": "code",
   "execution_count": 20,
   "id": "c7e5c21b-a522-48c5-84b8-e215825b38d6",
   "metadata": {},
   "outputs": [
    {
     "name": "stderr",
     "output_type": "stream",
     "text": [
      "Testing: 100%|███████████████████████████████████████████████████████████████████████| 123/123 [00:43<00:00,  2.80it/s]"
     ]
    },
    {
     "name": "stdout",
     "output_type": "stream",
     "text": [
      "Test Accuracy of the model on the 3931 test images: 79.57%\n"
     ]
    },
    {
     "name": "stderr",
     "output_type": "stream",
     "text": [
      "\n"
     ]
    }
   ],
   "source": [
    "# 加载训练过程中保存的最佳模型\n",
    "model.load_state_dict(torch.load('best_model.pth', weights_only=True))\n",
    "model.eval()  # 切换到评估模式\n",
    "\n",
    "# 在测试集上进行测试\n",
    "correct = 0\n",
    "total = 0\n",
    "\n",
    "# 使用 tqdm 显示测试进度\n",
    "test_loader_tqdm = tqdm(test_loader, desc='Testing', leave=True)\n",
    "\n",
    "# 不需要计算梯度，因此用 torch.no_grad() 包裹测试过程\n",
    "with torch.no_grad():\n",
    "    for images, labels in test_loader_tqdm:\n",
    "        # 将数据移动到 GPU\n",
    "        images = images.to(device)\n",
    "        labels = labels.to(device)\n",
    "        \n",
    "        # 前向传播\n",
    "        outputs = model(images)\n",
    "        _, predicted = torch.max(outputs.data, 1)\n",
    "        \n",
    "        # 计算准确率\n",
    "        total += labels.size(0)\n",
    "        correct += (predicted == labels).sum().item()\n",
    "\n",
    "# 计算测试集准确率\n",
    "test_accuracy = 100 * correct / total\n",
    "print(f'Test Accuracy of the model on the {total} test images: {test_accuracy:.2f}%')\n"
   ]
  },
  {
   "cell_type": "code",
   "execution_count": null,
   "id": "5235393e-839e-4d05-8e48-c451d5a03d44",
   "metadata": {},
   "outputs": [],
   "source": []
  }
 ],
 "metadata": {
  "kernelspec": {
   "display_name": "cv",
   "language": "python",
   "name": "python3"
  },
  "language_info": {
   "codemirror_mode": {
    "name": "ipython",
    "version": 3
   },
   "file_extension": ".py",
   "mimetype": "text/x-python",
   "name": "python",
   "nbconvert_exporter": "python",
   "pygments_lexer": "ipython3",
   "version": "3.9.19"
  }
 },
 "nbformat": 4,
 "nbformat_minor": 5
}
